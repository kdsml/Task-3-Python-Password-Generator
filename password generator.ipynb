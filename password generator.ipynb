{
 "cells": [
  {
   "cell_type": "code",
   "execution_count": 8,
   "id": "062ac6bc",
   "metadata": {},
   "outputs": [
    {
     "name": "stdout",
     "output_type": "stream",
     "text": [
      "Generated password: U$$k-\"&s]21et_-Z\n"
     ]
    }
   ],
   "source": [
    "import random\n",
    "import string\n",
    "\n",
    "def generate_password(length=16):\n",
    "    \"\"\"Generate a strong and secure password.\"\"\"\n",
    "    # Define the characters to use for the password\n",
    "    lower = string.ascii_lowercase\n",
    "    upper = string.ascii_uppercase\n",
    "    digits = string.digits\n",
    "    special = string.punctuation\n",
    "\n",
    "    # Combine all the characters\n",
    "    all_characters = lower + upper + digits + special\n",
    "\n",
    "    # Ensure the password has at least one character from each character set\n",
    "    password = [\n",
    "        random.choice(lower),\n",
    "        random.choice(upper),\n",
    "        random.choice(digits),\n",
    "        random.choice(special)\n",
    "    ]\n",
    "\n",
    "    # Fill the remaining length of the password with random characters\n",
    "    password += random.choices(all_characters, k=length-4)\n",
    "\n",
    "    # Shuffle the password list to ensure randomness\n",
    "    random.shuffle(password)\n",
    "\n",
    "    # Convert the list to a string and return it\n",
    "    return ''.join(password)\n",
    "\n",
    "# Generate and print a strong password of a given length\n",
    "password_length = 16  # You can change the length as needed\n",
    "strong_password = generate_password(password_length)\n",
    "print(f\"Generated password: {strong_password}\")\n"
   ]
  },
  {
   "cell_type": "code",
   "execution_count": null,
   "id": "a76b86e4",
   "metadata": {},
   "outputs": [],
   "source": []
  }
 ],
 "metadata": {
  "kernelspec": {
   "display_name": "Python 3 (ipykernel)",
   "language": "python",
   "name": "python3"
  },
  "language_info": {
   "codemirror_mode": {
    "name": "ipython",
    "version": 3
   },
   "file_extension": ".py",
   "mimetype": "text/x-python",
   "name": "python",
   "nbconvert_exporter": "python",
   "pygments_lexer": "ipython3",
   "version": "3.11.5"
  }
 },
 "nbformat": 4,
 "nbformat_minor": 5
}
